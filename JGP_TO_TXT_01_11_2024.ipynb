{
 "cells": [
  {
   "cell_type": "code",
   "execution_count": 1,
   "id": "5a043101-eee5-4837-ad3f-163ff402f0d1",
   "metadata": {},
   "outputs": [
    {
     "name": "stdout",
     "output_type": "stream",
     "text": [
      "Texte extrait et enregistré dans C:\\Users\\PC\\Desktop\\OUTPUT\n"
     ]
    }
   ],
   "source": [
    "import os\n",
    "from PIL import Image\n",
    "import pytesseract\n",
    "\n",
    "input_folder, output_folder = r\"C:\\Users\\PC\\Desktop\\INPUT\", r\"C:\\Users\\PC\\Desktop\\OUTPUT\"\n",
    "pytesseract.pytesseract.tesseract_cmd = r'C:\\Program Files\\Tesseract-OCR\\tesseract.exe'\n",
    "\n",
    "images = [f for f in os.listdir(input_folder) if f.lower().endswith(('.jpg', '.jpeg', '.png'))]\n",
    "latest_image = max(images, key=lambda x: os.path.getmtime(os.path.join(input_folder, x)), default=None)\n",
    "\n",
    "if latest_image:\n",
    "    img_path = os.path.join(input_folder, latest_image)\n",
    "    img = Image.open(img_path).convert(\"L\").point(lambda x: 0 if x < 160 else 255, '1')\n",
    "    text = pytesseract.image_to_string(img, lang='fra')\n",
    "    \n",
    "    with open(os.path.join(output_folder, f\"{os.path.splitext(latest_image)[0]}.txt\"), \"w\") as text_file:\n",
    "        text_file.write(text)\n",
    "    print(f\"Texte extrait et enregistré dans {output_folder}\")\n",
    "else:\n",
    "    print(\"Aucune image trouvée dans le dossier INPUT.\")\n"
   ]
  }
 ],
 "metadata": {
  "kernelspec": {
   "display_name": "Python 3 (ipykernel)",
   "language": "python",
   "name": "python3"
  },
  "language_info": {
   "codemirror_mode": {
    "name": "ipython",
    "version": 3
   },
   "file_extension": ".py",
   "mimetype": "text/x-python",
   "name": "python",
   "nbconvert_exporter": "python",
   "pygments_lexer": "ipython3",
   "version": "3.11.7"
  }
 },
 "nbformat": 4,
 "nbformat_minor": 5
}
